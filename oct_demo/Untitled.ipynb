{
 "cells": [
  {
   "cell_type": "code",
   "execution_count": 1,
   "id": "952f8094",
   "metadata": {},
   "outputs": [],
   "source": [
    "import time\n",
    "import datetime"
   ]
  },
  {
   "cell_type": "code",
   "execution_count": 8,
   "id": "8815605b",
   "metadata": {},
   "outputs": [],
   "source": [
    "tim_s = 3600"
   ]
  },
  {
   "cell_type": "code",
   "execution_count": 9,
   "id": "6e818b58",
   "metadata": {},
   "outputs": [
    {
     "data": {
      "text/plain": [
       "'01:00:00'"
      ]
     },
     "execution_count": 9,
     "metadata": {},
     "output_type": "execute_result"
    }
   ],
   "source": [
    "time.strftime('%H:%M:%S', time.gmtime(tim_s))"
   ]
  },
  {
   "cell_type": "code",
   "execution_count": null,
   "id": "5c5c221a",
   "metadata": {},
   "outputs": [],
   "source": []
  }
 ],
 "metadata": {
  "kernelspec": {
   "display_name": "Python 3 (ipykernel)",
   "language": "python",
   "name": "python3"
  },
  "language_info": {
   "codemirror_mode": {
    "name": "ipython",
    "version": 3
   },
   "file_extension": ".py",
   "mimetype": "text/x-python",
   "name": "python",
   "nbconvert_exporter": "python",
   "pygments_lexer": "ipython3",
   "version": "3.8.13"
  }
 },
 "nbformat": 4,
 "nbformat_minor": 5
}
