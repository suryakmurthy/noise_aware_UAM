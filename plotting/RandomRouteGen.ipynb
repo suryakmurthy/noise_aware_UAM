{
 "cells": [
  {
   "cell_type": "code",
   "execution_count": 3,
   "metadata": {},
   "outputs": [
    {
     "name": "stdout",
     "output_type": "stream",
     "text": [
      "Using Python-based geo functions\n"
     ]
    }
   ],
   "source": [
    "import numpy as np\n",
    "import utm\n",
    "\n",
    "from bluesky.tools import geo\n",
    "from shapely.geometry import LineString, LinearRing, MultiLineString,Point"
   ]
  },
  {
   "cell_type": "code",
   "execution_count": 4,
   "metadata": {},
   "outputs": [],
   "source": [
    "data = np.load('routes/commercial/C.npy')"
   ]
  },
  {
   "cell_type": "code",
   "execution_count": 5,
   "metadata": {},
   "outputs": [],
   "source": [
    "ls = []\n",
    "for i in range(data.shape[0]):\n",
    "    ls.append(LineString([[data[i][1],data[i][0]],[data[i][3],data[i][2]]]))\n",
    "              \n",
    "mls = MultiLineString(ls)"
   ]
  },
  {
   "cell_type": "code",
   "execution_count": 6,
   "metadata": {},
   "outputs": [],
   "source": [
    "lon1, lat1, lon2, lat2 = mls.bounds"
   ]
  },
  {
   "cell_type": "code",
   "execution_count": 7,
   "metadata": {},
   "outputs": [
    {
     "data": {
      "text/plain": [
       "(-95.0246, 40.0, -90.1034, 43.0)"
      ]
     },
     "execution_count": 7,
     "metadata": {},
     "output_type": "execute_result"
    }
   ],
   "source": [
    "mls.bounds"
   ]
  },
  {
   "cell_type": "code",
   "execution_count": 8,
   "metadata": {},
   "outputs": [],
   "source": [
    "h, d = geo.qdrdist(lat2,lon2,lat1,lon1)"
   ]
  },
  {
   "cell_type": "code",
   "execution_count": 9,
   "metadata": {},
   "outputs": [],
   "source": [
    "radius = d // 2\n",
    "\n",
    "lon_c, lat_c = list(mls.centroid.coords)[0]"
   ]
  },
  {
   "cell_type": "code",
   "execution_count": 10,
   "metadata": {},
   "outputs": [
    {
     "data": {
      "image/svg+xml": [
       "<svg xmlns=\"http://www.w3.org/2000/svg\" xmlns:xlink=\"http://www.w3.org/1999/xlink\" width=\"100.0\" height=\"100.0\" viewBox=\"-1.16 -1.16 4.32 4.32\" preserveAspectRatio=\"xMinYMin meet\"><g transform=\"matrix(1,0,0,-1,0,2.0)\"><path fill-rule=\"evenodd\" fill=\"#66cc99\" stroke=\"#555555\" stroke-width=\"0.0864\" opacity=\"0.6\" d=\"M 3.0,1.0 L 2.990369453344394,0.803965719340879 L 2.961570560806461,0.6098193559677438 L 2.913880671464418,0.4194306454910758 L 2.847759065022574,0.2346331352698212 L 2.7638425286967108,0.057206526348005604 L 2.662939224605091,-0.11114046603920347 L 2.5460209067254747,-0.26878656832728987 L 2.4142135623730963,-0.4142135623730938 L 2.2687865683272923,-0.5460209067254727 L 2.111140466039206,-0.6629392246050894 L 1.9427934736519972,-0.763842528696709 L 1.7653668647301817,-0.8477590650225726 L 1.5805693545089272,-0.913880671464417 L 1.3901806440322593,-0.9615705608064604 L 1.1960342806591242,-0.9903694533443934 L 1.0000000000000033,-1.0 L 0.8039657193408822,-0.9903694533443941 L 0.6098193559677471,-0.9615705608064615 L 0.419430645491079,-0.9138806714644188 L 0.23463313526982432,-0.847759065022575 L 0.0572065263480086,-0.7638425286967121 L -0.11114046603920102,-0.6629392246050927 L -0.26878656832728787,-0.5460209067254764 L -0.4142135623730925,-0.4142135623730976 L -0.5460209067254718,-0.26878656832729364 L -0.6629392246050887,-0.11114046603920724 L -0.7638425286967085,0.05720652634800194 L -0.8477590650225724,0.23463313526981777 L -0.913880671464417,0.4194306454910727 L -0.9615705608064604,0.6098193559677411 L -0.9903694533443936,0.8039657193408766 L -1.0,0.999999999999998 L -0.9903694533443939,1.1960342806591193 L -0.9615705608064613,1.390180644032255 L -0.9138806714644181,1.5805693545089234 L -0.8477590650225739,1.7653668647301783 L -0.7638425286967105,1.9427934736519945 L -0.6629392246050909,2.111140466039204 L -0.5460209067254742,2.2687865683272905 L -0.41421356237309537,2.414213562373095 L -0.26878656832729186,2.5460209067254733 L -0.11114046603920591,2.66293922460509 L 0.057206526348002606,2.763842528696709 L 0.23463313526981766,2.847759065022572 L 0.4194306454910718,2.9138806714644168 L 0.6098193559677392,2.96157056080646 L 0.8039657193408738,2.9903694533443934 L 0.9999999999999943,3.0 L 1.1960342806591149,2.9903694533443943 L 1.3901806440322497,2.961570560806462 L 1.5805693545089174,2.91388067146442 L 1.7653668647301717,2.8477590650225766 L 1.9427934736519874,2.7638425286967143 L 2.1111404660391964,2.662939224605096 L 2.268786568327283,2.5460209067254804 L 2.414213562373087,2.414213562373103 L 2.5460209067254667,2.2687865683273003 L 2.6629392246050836,2.111140466039215 L 2.7638425286967037,1.942793473652007 L 2.847759065022568,1.7653668647301923 L 2.9138806714644137,1.5805693545089385 L 2.961570560806458,1.3901806440322715 L 2.9903694533443925,1.1960342806591369 L 3.0,1.0000000000000164 L 3.0,1.0 z\" /></g></svg>"
      ],
      "text/plain": [
       "<shapely.geometry.polygon.Polygon at 0x7fdb7c0e0c18>"
      ]
     },
     "execution_count": 10,
     "metadata": {},
     "output_type": "execute_result"
    }
   ],
   "source": [
    "circle = Point(1,1).buffer(2)\n",
    "circle"
   ]
  },
  {
   "cell_type": "code",
   "execution_count": 11,
   "metadata": {},
   "outputs": [],
   "source": [
    "r_m = radius*geo.nm"
   ]
  },
  {
   "cell_type": "code",
   "execution_count": 12,
   "metadata": {},
   "outputs": [],
   "source": [
    "x_c,y_c,n,l = utm.from_latlon(lat_c,lon_c)"
   ]
  },
  {
   "cell_type": "code",
   "execution_count": 13,
   "metadata": {},
   "outputs": [],
   "source": [
    "def checkPoint(x1,y1,x2,y2,ls,threshold):\n",
    "    \n",
    "    \n",
    "    for j in range(len(ls)):\n",
    "        old_ls = ls[j]\n",
    "        \n",
    "        start,end = list(old_ls.coords)\n",
    "        \n",
    "        x_1,y_1 = start\n",
    "        xe_1,ye_1 = end\n",
    "        \n",
    "        # distance start to old LS start\n",
    "        dx = np.sqrt((x_1-x1)**2 + (y_1-y1)**2)/geo.nm\n",
    "        \n",
    "        # distance start to old LS end\n",
    "        dx_1 = np.sqrt((xe_1-x1)**2 + (ye_1-y1)**2)/geo.nm\n",
    "        \n",
    "        # distance end to old LS end\n",
    "        dx_2 = np.sqrt((xe_1-x2)**2 + (ye_1-y2)**2)/geo.nm\n",
    "        \n",
    "        # distance end to old LS start\n",
    "        dx_3 = np.sqrt((x_1-x2)**2 + (y_1-y2)**2)/geo.nm\n",
    "        \n",
    "        \n",
    "        \n",
    "        dist = np.array([dx,dx_1,dx_2,dx_3])\n",
    "        \n",
    "        # feasible route\n",
    "        if any(dist <= threshold):\n",
    "            return False\n",
    "    \n",
    "    return True"
   ]
  },
  {
   "cell_type": "code",
   "execution_count": 129,
   "metadata": {},
   "outputs": [
    {
     "data": {
      "image/svg+xml": [
       "<svg xmlns=\"http://www.w3.org/2000/svg\" xmlns:xlink=\"http://www.w3.org/1999/xlink\" width=\"300\" height=\"300\" viewBox=\"283982.8449457732 4346515.197902238 547491.1766939189 488840.77717413753\" preserveAspectRatio=\"xMinYMin meet\"><g transform=\"matrix(1,0,0,-1,0,9181871.172978614)\"><g><polyline fill=\"none\" stroke=\"#66cc99\" stroke-width=\"3649.9411779594593\" points=\"811196.5706510284,4496753.052058669 304260.29593443684,4624055.28327805\" opacity=\"0.8\" /><polyline fill=\"none\" stroke=\"#66cc99\" stroke-width=\"3649.9411779594593\" points=\"430710.5139354466,4815078.524087712 705703.7824883468,4366792.648890901\" opacity=\"0.8\" /><polyline fill=\"none\" stroke=\"#66cc99\" stroke-width=\"3649.9411779594593\" points=\"776462.261894745,4432707.714338875 327499.2775818785,4702074.973871717\" opacity=\"0.8\" /></g></g></svg>"
      ],
      "text/plain": [
       "<shapely.geometry.multilinestring.MultiLineString at 0x7fdb636190f0>"
      ]
     },
     "execution_count": 129,
     "metadata": {},
     "output_type": "execute_result"
    }
   ],
   "source": [
    "\n",
    "n_routes = np.random.randint(2,6)\n",
    "degrees = 20\n",
    "threshold = 30\n",
    "\n",
    "ls = []\n",
    "\n",
    "count = 0\n",
    "\n",
    "while count < n_routes:\n",
    "\n",
    "\n",
    "    angle = np.random.uniform(0,2*np.pi)\n",
    "    x = r_m*np.sin(angle) + x_c\n",
    "    y = r_m*np.cos(angle) + y_c\n",
    "    \n",
    "    random_end = np.random.uniform(np.pi-np.radians(degrees),np.pi+np.radians(degrees))\n",
    "    \n",
    "    xe =  r_m*np.sin(angle+random_end) + x_c\n",
    "    ye =  r_m*np.cos(angle+random_end) + y_c\n",
    "    \n",
    "    \n",
    "    if checkPoint(x,y,xe,ye,ls,threshold):\n",
    "        \n",
    "        count += 1\n",
    "        ls.append(LineString([[x,y],[xe,ye]]))\n",
    "\n",
    "    \n",
    "MultiLineString(ls)"
   ]
  },
  {
   "cell_type": "code",
   "execution_count": 59,
   "metadata": {},
   "outputs": [],
   "source": [
    "for lines in ls:\n",
    "    lines"
   ]
  },
  {
   "cell_type": "code",
   "execution_count": 63,
   "metadata": {},
   "outputs": [],
   "source": [
    "start,end = list(lines.coords)"
   ]
  },
  {
   "cell_type": "code",
   "execution_count": 66,
   "metadata": {},
   "outputs": [],
   "source": [
    "x_start,y_start = start\n",
    "x_end, y_end = end"
   ]
  },
  {
   "cell_type": "code",
   "execution_count": 71,
   "metadata": {},
   "outputs": [],
   "source": [
    "lat_start,lon_start = utm.to_latlon(x_start,y_start,n,l)\n",
    "lat_end,lon_end = utm.to_latlon(x_end,y_end,n,l)"
   ]
  },
  {
   "cell_type": "code",
   "execution_count": 72,
   "metadata": {},
   "outputs": [
    {
     "name": "stdout",
     "output_type": "stream",
     "text": [
      "137.4016019159112\n"
     ]
    }
   ],
   "source": [
    "h, d = geo.qdrdist(lat_start,lon_start,lat_end,lon_end)\n",
    "print(h)"
   ]
  },
  {
   "cell_type": "code",
   "execution_count": null,
   "metadata": {},
   "outputs": [],
   "source": []
  },
  {
   "cell_type": "code",
   "execution_count": null,
   "metadata": {},
   "outputs": [],
   "source": []
  },
  {
   "cell_type": "code",
   "execution_count": null,
   "metadata": {
    "scrolled": false
   },
   "outputs": [],
   "source": [
    "def geneate_route():\n",
    "    n_routes = np.random.randint(2,6)\n",
    "    degrees = 20\n",
    "    threshold = 30\n",
    "\n",
    "    ls = []\n",
    "\n",
    "    count = 0\n",
    "\n",
    "    while count < n_routes:\n",
    "\n",
    "\n",
    "        angle = np.random.uniform(0,2*np.pi)\n",
    "        x = r_m*np.sin(angle) + x_c\n",
    "        y = r_m*np.cos(angle) + y_c\n",
    "\n",
    "        random_end = np.random.uniform(np.pi-np.radians(degrees),np.pi+np.radians(degrees))\n",
    "\n",
    "        xe =  r_m*np.sin(angle+random_end) + x_c\n",
    "        ye =  r_m*np.cos(angle+random_end) + y_c\n",
    "\n",
    "\n",
    "        if checkPoint(x,y,xe,ye,ls,threshold):\n",
    "\n",
    "            count += 1\n",
    "            ls.append(LineString([[x,y],[xe,ye]]))\n"
   ]
  },
  {
   "cell_type": "code",
   "execution_count": 116,
   "metadata": {},
   "outputs": [
    {
     "data": {
      "text/plain": [
       "[<shapely.geometry.linestring.LineString at 0x7fc6743d5668>,\n",
       " <shapely.geometry.linestring.LineString at 0x7fc6743d5208>]"
      ]
     },
     "execution_count": 116,
     "metadata": {},
     "output_type": "execute_result"
    }
   ],
   "source": [
    "ls"
   ]
  },
  {
   "cell_type": "code",
   "execution_count": 106,
   "metadata": {},
   "outputs": [
    {
     "data": {
      "text/plain": [
       "True"
      ]
     },
     "execution_count": 106,
     "metadata": {},
     "output_type": "execute_result"
    }
   ],
   "source": [
    "all(np.array(dist) > 20)"
   ]
  },
  {
   "cell_type": "code",
   "execution_count": 108,
   "metadata": {},
   "outputs": [
    {
     "data": {
      "text/plain": [
       "0"
      ]
     },
     "execution_count": 108,
     "metadata": {},
     "output_type": "execute_result"
    }
   ],
   "source": [
    "count"
   ]
  },
  {
   "cell_type": "code",
   "execution_count": 100,
   "metadata": {},
   "outputs": [
    {
     "data": {
      "text/plain": [
       "array([False,  True, False,  True])"
      ]
     },
     "execution_count": 100,
     "metadata": {},
     "output_type": "execute_result"
    }
   ],
   "source": [
    "np.array(dist) > 150"
   ]
  },
  {
   "cell_type": "code",
   "execution_count": 99,
   "metadata": {},
   "outputs": [
    {
     "data": {
      "text/plain": [
       "array([142.85957407, 197.22195867, 142.85957407, 197.22195867])"
      ]
     },
     "execution_count": 99,
     "metadata": {},
     "output_type": "execute_result"
    }
   ],
   "source": [
    "np.array(dist)"
   ]
  },
  {
   "cell_type": "code",
   "execution_count": 63,
   "metadata": {},
   "outputs": [],
   "source": [
    "f = LineString([[x,y],[xe,ye]])"
   ]
  },
  {
   "cell_type": "code",
   "execution_count": 77,
   "metadata": {},
   "outputs": [
    {
     "data": {
      "text/plain": [
       "[(777713.0600356099, 4801726.305639927),\n",
       " (352053.97095480724, 4376067.216559124)]"
      ]
     },
     "execution_count": 77,
     "metadata": {},
     "output_type": "execute_result"
    }
   ],
   "source": [
    "list(old_ls.coords)"
   ]
  },
  {
   "cell_type": "code",
   "execution_count": 92,
   "metadata": {},
   "outputs": [
    {
     "data": {
      "text/plain": [
       "44.23696783657674"
      ]
     },
     "execution_count": 92,
     "metadata": {},
     "output_type": "execute_result"
    }
   ],
   "source": [
    "dx_2/geo.nm"
   ]
  },
  {
   "cell_type": "code",
   "execution_count": 87,
   "metadata": {},
   "outputs": [
    {
     "data": {
      "text/plain": [
       "142.0"
      ]
     },
     "execution_count": 87,
     "metadata": {},
     "output_type": "execute_result"
    }
   ],
   "source": [
    "r_m/geo.nm"
   ]
  },
  {
   "cell_type": "code",
   "execution_count": null,
   "metadata": {},
   "outputs": [],
   "source": []
  }
 ],
 "metadata": {
  "kernelspec": {
   "display_name": "Python 3",
   "language": "python",
   "name": "python3"
  },
  "language_info": {
   "codemirror_mode": {
    "name": "ipython",
    "version": 3
   },
   "file_extension": ".py",
   "mimetype": "text/x-python",
   "name": "python",
   "nbconvert_exporter": "python",
   "pygments_lexer": "ipython3",
   "version": "3.6.12"
  }
 },
 "nbformat": 4,
 "nbformat_minor": 4
}
